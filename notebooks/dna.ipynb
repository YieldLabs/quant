{
 "cells": [
  {
   "cell_type": "code",
   "execution_count": null,
   "metadata": {},
   "outputs": [],
   "source": [
    "import warnings\n",
    "warnings.filterwarnings('ignore')"
   ]
  },
  {
   "cell_type": "code",
   "execution_count": null,
   "metadata": {},
   "outputs": [],
   "source": [
    "import pandas as pd\n",
    "import numpy as np\n",
    "from utils import plot_candlestick"
   ]
  },
  {
   "cell_type": "code",
   "execution_count": null,
   "metadata": {},
   "outputs": [],
   "source": [
    "LOG_DIR = '../.log/'\n",
    "\n",
    "BACKTEST_LOG = f\"{LOG_DIR}backtest.json\"\n",
    "MARKET_LOG = f\"{LOG_DIR}market.json\"\n",
    "PORTFOLIO_LOG = f\"{LOG_DIR}portfolio.json\"\n",
    "SIGNAL_LOG = f\"{LOG_DIR}signal.json\"\n",
    "POSITION_LOG = f\"{LOG_DIR}position.json\""
   ]
  },
  {
   "cell_type": "code",
   "execution_count": null,
   "metadata": {},
   "outputs": [],
   "source": [
    "backtest_df = pd.read_json(BACKTEST_LOG)\n",
    "backtest_df_flat = pd.json_normalize(backtest_df.to_dict(orient='records'))\n",
    "\n",
    "market_df = pd.read_json(MARKET_LOG)\n",
    "market_df_flat = pd.json_normalize(market_df.to_dict(orient='records'))\n",
    "\n",
    "signal_df = pd.read_json(SIGNAL_LOG)\n",
    "signal_df_flat = pd.json_normalize(signal_df.to_dict(orient='records'))\n",
    "\n",
    "position_df = pd.read_json(POSITION_LOG)\n",
    "position_df_flat = pd.json_normalize(position_df.to_dict(orient='records'))\n",
    "\n",
    "portfolio_df = pd.read_json(PORTFOLIO_LOG)\n",
    "portfolio_df_flat = pd.json_normalize(portfolio_df.to_dict(orient='records'))"
   ]
  },
  {
   "cell_type": "code",
   "execution_count": null,
   "metadata": {},
   "outputs": [],
   "source": [
    "backtest_df_flat.info()"
   ]
  },
  {
   "cell_type": "code",
   "execution_count": null,
   "metadata": {},
   "outputs": [],
   "source": [
    "backtest_df_flat.describe()"
   ]
  },
  {
   "cell_type": "code",
   "execution_count": null,
   "metadata": {},
   "outputs": [],
   "source": [
    "market_df_flat.info()"
   ]
  },
  {
   "cell_type": "code",
   "execution_count": null,
   "metadata": {},
   "outputs": [],
   "source": [
    "market_df_flat.describe()"
   ]
  },
  {
   "cell_type": "code",
   "execution_count": null,
   "metadata": {},
   "outputs": [],
   "source": [
    "signal_df_flat.info()"
   ]
  },
  {
   "cell_type": "code",
   "execution_count": null,
   "metadata": {},
   "outputs": [],
   "source": [
    "signal_df_flat.describe()"
   ]
  },
  {
   "cell_type": "code",
   "execution_count": null,
   "metadata": {},
   "outputs": [],
   "source": [
    "position_df_flat.info()"
   ]
  },
  {
   "cell_type": "code",
   "execution_count": null,
   "metadata": {},
   "outputs": [],
   "source": [
    "position_df_flat.describe()"
   ]
  },
  {
   "cell_type": "code",
   "execution_count": null,
   "metadata": {},
   "outputs": [],
   "source": [
    "portfolio_df_flat.info()"
   ]
  },
  {
   "cell_type": "code",
   "execution_count": null,
   "metadata": {},
   "outputs": [],
   "source": [
    "portfolio_df_flat.describe()"
   ]
  },
  {
   "cell_type": "code",
   "execution_count": null,
   "metadata": {},
   "outputs": [],
   "source": [
    "symbol_dataframes = {}\n",
    "\n",
    "rename_map = {\n",
    "    'ohlcv.timestamp': 'timestamp',\n",
    "    'ohlcv.open': 'open',\n",
    "    'ohlcv.high': 'high',\n",
    "    'ohlcv.low': 'low',\n",
    "    'ohlcv.close': 'close',\n",
    "    'ohlcv.volume': 'volume'\n",
    "}\n",
    "\n",
    "for symbol in market_df_flat['symbol.name'].unique():\n",
    "    if symbol is np.nan:\n",
    "        continue\n",
    "    \n",
    "    symbol_df = market_df_flat[market_df_flat['symbol.name'] == symbol]\n",
    "    \n",
    "    ohlcv_df = symbol_df[list(rename_map.keys())].copy()\n",
    "    ohlcv_df = ohlcv_df.rename(columns=rename_map)\n",
    "    ohlcv_df['symbol'] = symbol\n",
    "    ohlcv_df['timestamp'] = pd.to_datetime(ohlcv_df['timestamp'], unit='ms')\n",
    "    \n",
    "    symbol_dataframes[symbol] = ohlcv_df"
   ]
  },
  {
   "cell_type": "code",
   "execution_count": null,
   "metadata": {},
   "outputs": [],
   "source": [
    "symbol_dataframes.keys()"
   ]
  },
  {
   "cell_type": "code",
   "execution_count": null,
   "metadata": {},
   "outputs": [],
   "source": [
    "fig = plot_candlestick(symbol_dataframes)\n",
    "fig.show()"
   ]
  }
 ],
 "metadata": {
  "kernelspec": {
   "display_name": "Python 3",
   "language": "python",
   "name": "python3"
  },
  "language_info": {
   "codemirror_mode": {
    "name": "ipython",
    "version": 3
   },
   "file_extension": ".py",
   "mimetype": "text/x-python",
   "name": "python",
   "nbconvert_exporter": "python",
   "pygments_lexer": "ipython3",
   "version": "3.11.5"
  },
  "orig_nbformat": 4
 },
 "nbformat": 4,
 "nbformat_minor": 2
}
