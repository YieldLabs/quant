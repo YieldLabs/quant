{
 "cells": [
  {
   "cell_type": "code",
   "execution_count": null,
   "metadata": {},
   "outputs": [],
   "source": [
    "import warnings\n",
    "warnings.filterwarnings('ignore')"
   ]
  },
  {
   "cell_type": "code",
   "execution_count": null,
   "metadata": {},
   "outputs": [],
   "source": [
    "import pandas as pd\n",
    "import numpy as np\n",
    "import seaborn as sns\n",
    "import matplotlib.pyplot as plt\n",
    "from utils import plot_candlestick, plot_equity_curve\n",
    "\n",
    "sns.set_style(\"darkgrid\")\n",
    "sns.set_palette(\"pastel\")"
   ]
  },
  {
   "cell_type": "code",
   "execution_count": null,
   "metadata": {},
   "outputs": [],
   "source": [
    "LOG_DIR = '../.log/'\n",
    "\n",
    "BACKTEST_LOG = f\"{LOG_DIR}backtest.json\"\n",
    "MARKET_LOG = f\"{LOG_DIR}market.json\"\n",
    "PORTFOLIO_LOG = f\"{LOG_DIR}portfolio.json\"\n",
    "SIGNAL_LOG = f\"{LOG_DIR}signal.json\"\n",
    "POSITION_LOG = f\"{LOG_DIR}position.json\""
   ]
  },
  {
   "cell_type": "code",
   "execution_count": null,
   "metadata": {},
   "outputs": [],
   "source": [
    "def read_and_flatten(json_log):\n",
    "    df = pd.read_json(json_log)\n",
    "    return pd.json_normalize(df.to_dict(orient='records'))\n",
    "\n",
    "backtest_df_flat = read_and_flatten(BACKTEST_LOG)\n",
    "market_df_flat = read_and_flatten(MARKET_LOG)\n",
    "signal_df_flat = read_and_flatten(SIGNAL_LOG)\n",
    "position_df_flat = read_and_flatten(POSITION_LOG)\n",
    "portfolio_df_flat = read_and_flatten(PORTFOLIO_LOG)"
   ]
  },
  {
   "cell_type": "code",
   "execution_count": null,
   "metadata": {},
   "outputs": [],
   "source": [
    "symbols_timeframes = backtest_df_flat[['symbol.name', 'timeframe']].drop_duplicates().values.tolist()\n",
    "symbols_timeframes.sort(key=lambda x: x[0])\n",
    "\n",
    "print(f\"Total: {len(symbols_timeframes)}\")"
   ]
  },
  {
   "cell_type": "code",
   "execution_count": null,
   "metadata": {},
   "outputs": [],
   "source": [
    "filtered_signal_df = signal_df_flat[signal_df_flat['signal.symbol'].isin([x[0] for x in symbols_timeframes]) & \n",
    "                                signal_df_flat['signal.timeframe'].isin([x[1] for x in symbols_timeframes])]\n",
    "signals = signal_df_flat.groupby(['signal.symbol', 'signal.timeframe', 'signal.strategy']).last().reset_index()\n",
    "\n",
    "signals['stop_loss_distance'] = abs(signals['entry_price'] - signals['stop_loss'])\n",
    "signals['datetime'] = pd.to_datetime(signals['ohlcv.timestamp'], unit='ms')"
   ]
  },
  {
   "cell_type": "code",
   "execution_count": null,
   "metadata": {},
   "outputs": [],
   "source": [
    "g = sns.FacetGrid(data=signals, col=\"signal.strategy\", col_wrap=2, height=4, sharey=False)\n",
    "g.map(sns.countplot, \"signal.side\", order=[\"BUY\", \"SELL\"])\n",
    "\n",
    "g.set_axis_labels(\"Signal Side\", \"Count\")\n",
    "g.set_titles(\"Strategy: {col_name}\")\n",
    "\n",
    "plt.show()"
   ]
  },
  {
   "cell_type": "code",
   "execution_count": null,
   "metadata": {},
   "outputs": [],
   "source": [
    "plt.figure(figsize=(7, 4))\n",
    "sns.countplot(data=signals, x='signal.strategy')\n",
    "plt.title('Signal Count by Strategy')\n",
    "plt.xlabel('Strategy')\n",
    "plt.ylabel('Count')\n",
    "plt.show()"
   ]
  },
  {
   "cell_type": "code",
   "execution_count": null,
   "metadata": {},
   "outputs": [],
   "source": [
    "plt.figure(figsize=(7, 4))\n",
    "\n",
    "sns.histplot(data=signals, x='stop_loss_distance', hue='signal.strategy', bins=30, kde=False, multiple=\"stack\")\n",
    "\n",
    "plt.title('Distribution of Stop Loss Distances by Strategy')\n",
    "plt.xlabel('Stop Loss Distance')\n",
    "plt.ylabel('Count')\n",
    "plt.show()\n"
   ]
  },
  {
   "cell_type": "code",
   "execution_count": null,
   "metadata": {},
   "outputs": [],
   "source": [
    "filtered_portfolio_df = portfolio_df_flat[portfolio_df_flat['symbol'].isin([x[0] for x in symbols_timeframes]) & \n",
    "                                portfolio_df_flat['timeframe'].isin([x[1] for x in symbols_timeframes])]\n",
    "portfolio = filtered_portfolio_df.groupby(['symbol', 'timeframe', 'strategy']).last().reset_index()\n",
    "portfolio_sorted = portfolio.sort_values(by='performance.total_pnl', ascending=False)"
   ]
  },
  {
   "cell_type": "code",
   "execution_count": null,
   "metadata": {},
   "outputs": [],
   "source": [
    "plt.figure(figsize=(7, 4))\n",
    "\n",
    "sns.histplot(data=portfolio_sorted, x='performance.total_pnl', hue='strategy', kde=False, bins=10)\n",
    "\n",
    "plt.title('Distribution of Total Profits')\n",
    "plt.xlabel('Total Profit')\n",
    "plt.ylabel('Frequency')\n",
    "\n",
    "plt.show()"
   ]
  },
  {
   "cell_type": "code",
   "execution_count": null,
   "metadata": {},
   "outputs": [],
   "source": [
    "plt.figure(figsize=(7, 4))\n",
    "\n",
    "sns.histplot(data=portfolio_sorted, x='performance.sharpe_ratio', hue='strategy', kde=False, bins=10)\n",
    "\n",
    "plt.title('Distribution of Sharpe Ratio')\n",
    "plt.xlabel('Sharpe Ratio')\n",
    "plt.ylabel('Frequency')\n",
    "\n",
    "plt.show()"
   ]
  },
  {
   "cell_type": "code",
   "execution_count": null,
   "metadata": {},
   "outputs": [],
   "source": [
    "plt.figure(figsize=(7, 4))\n",
    "\n",
    "sns.histplot(data=portfolio_sorted, x='performance.sortino_ratio', hue='strategy', kde=False, bins=10)\n",
    "\n",
    "plt.title('Distribution of Sortino Ratio')\n",
    "plt.xlabel('Sortino Ratio')\n",
    "plt.ylabel('Frequency')\n",
    "\n",
    "plt.show()"
   ]
  },
  {
   "cell_type": "code",
   "execution_count": null,
   "metadata": {},
   "outputs": [],
   "source": [
    "plt.figure(figsize=(7, 4))\n",
    "\n",
    "sns.histplot(data=portfolio_sorted, x='performance.calmar_ratio', hue='strategy', kde=False, bins=10)\n",
    "\n",
    "plt.title('Distribution of Calmar Ratio')\n",
    "plt.xlabel('Calmar Ratio')\n",
    "plt.ylabel('Frequency')\n",
    "\n",
    "plt.show()"
   ]
  },
  {
   "cell_type": "code",
   "execution_count": null,
   "metadata": {},
   "outputs": [],
   "source": [
    "plt.figure(figsize=(7, 4))\n",
    "\n",
    "sns.scatterplot(data=portfolio, x=\"performance.max_drawdown\", y=\"performance.profit_factor\")\n",
    "\n",
    "plt.title('Max Drawdown vs Profit Factor')\n",
    "plt.xlabel('Max Drawdown (%)')\n",
    "plt.ylabel('Profit Factor')\n",
    "\n",
    "plt.show()"
   ]
  },
  {
   "cell_type": "code",
   "execution_count": null,
   "metadata": {},
   "outputs": [],
   "source": [
    "plt.figure(figsize=(7, 4))\n",
    "\n",
    "sns.scatterplot(data=portfolio, x=\"performance.hit_ratio\", y=\"performance.profit_factor\")\n",
    "\n",
    "plt.title('Hit Ratio vs Profit Factor')\n",
    "plt.xlabel('Hit Ratio')\n",
    "plt.ylabel('Profit Factor')\n",
    "\n",
    "plt.show()"
   ]
  },
  {
   "cell_type": "code",
   "execution_count": null,
   "metadata": {},
   "outputs": [],
   "source": [
    "top_gains = portfolio_sorted[(portfolio_sorted['performance.total_trades'] > 10) & (portfolio_sorted['performance.total_pnl'] > 0)].head(10)\n",
    "gains = top_gains[['symbol', 'timeframe', 'strategy']].drop_duplicates().values.tolist()\n",
    "\n",
    "for symbol, timeframe, strategy in gains:\n",
    "    df_filtered = portfolio[(portfolio['symbol'] == symbol) & \n",
    "                            (portfolio['timeframe'] == timeframe) & \n",
    "                            (portfolio['strategy'] == strategy)]\n",
    "    \n",
    "    fig = plot_equity_curve(df_filtered, symbol, timeframe, strategy)\n",
    "    fig.show()"
   ]
  },
  {
   "cell_type": "code",
   "execution_count": null,
   "metadata": {},
   "outputs": [],
   "source": [
    "top_losses = portfolio_sorted[(portfolio_sorted['performance.total_trades'] > 10) & (portfolio_sorted['performance.total_pnl'] < 0)].tail(3)\n",
    "losses = top_losses[['symbol', 'timeframe', 'strategy']].drop_duplicates().values.tolist()\n",
    "\n",
    "for symbol, timeframe, strategy in losses:\n",
    "    df_filtered = portfolio[(portfolio['symbol'] == symbol) & \n",
    "                            (portfolio['timeframe'] == timeframe) & \n",
    "                            (portfolio['strategy'] == strategy)]\n",
    "    \n",
    "    fig = plot_equity_curve(df_filtered, symbol, timeframe, strategy)\n",
    "    fig.show()"
   ]
  },
  {
   "cell_type": "code",
   "execution_count": null,
   "metadata": {},
   "outputs": [],
   "source": [
    "symbol_dataframes = {}\n",
    "\n",
    "rename_map = {\n",
    "    'ohlcv.timestamp': 'timestamp',\n",
    "    'ohlcv.open': 'open',\n",
    "    'ohlcv.high': 'high',\n",
    "    'ohlcv.low': 'low',\n",
    "    'ohlcv.close': 'close',\n",
    "    'ohlcv.volume': 'volume'\n",
    "}\n",
    "\n",
    "for symbol, timeframe, _ in gains:\n",
    "    if symbol is np.nan:\n",
    "        continue\n",
    "    \n",
    "    mask = (market_df_flat['symbol.name'] == symbol) & (market_df_flat['timeframe'] == timeframe)\n",
    "    symbol_df = market_df_flat[mask]\n",
    "    \n",
    "    ohlcv_df = symbol_df[list(rename_map.keys())].copy()\n",
    "    ohlcv_df = ohlcv_df.rename(columns=rename_map)\n",
    "    ohlcv_df['symbol'] = symbol\n",
    "    ohlcv_df['timeframe'] = timeframe\n",
    "    ohlcv_df['timestamp'] = pd.to_datetime(ohlcv_df['timestamp'], unit='ms')\n",
    "    \n",
    "    symbol_dataframes[(symbol, timeframe)] = ohlcv_df"
   ]
  },
  {
   "cell_type": "code",
   "execution_count": null,
   "metadata": {},
   "outputs": [],
   "source": [
    "fig = plot_candlestick(symbol_dataframes)\n",
    "fig.show()"
   ]
  }
 ],
 "metadata": {
  "kernelspec": {
   "display_name": "Python 3",
   "language": "python",
   "name": "python3"
  },
  "language_info": {
   "codemirror_mode": {
    "name": "ipython",
    "version": 3
   },
   "file_extension": ".py",
   "mimetype": "text/x-python",
   "name": "python",
   "nbconvert_exporter": "python",
   "pygments_lexer": "ipython3",
   "version": "3.11.5"
  },
  "orig_nbformat": 4
 },
 "nbformat": 4,
 "nbformat_minor": 2
}
